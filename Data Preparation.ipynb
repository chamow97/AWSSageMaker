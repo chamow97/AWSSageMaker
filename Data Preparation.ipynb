{
 "cells": [
  {
   "cell_type": "code",
   "execution_count": 7,
   "id": "72902d15-b5e6-4a57-aca5-2794aec03629",
   "metadata": {},
   "outputs": [
    {
     "name": "stdout",
     "output_type": "stream",
     "text": [
      "   long_hair  forehead_width_cm  forehead_height_cm  nose_wide  nose_long  \\\n",
      "0          1               11.8                 6.1          1          0   \n",
      "1          0               14.0                 5.4          0          0   \n",
      "2          0               11.8                 6.3          1          1   \n",
      "3          0               14.4                 6.1          0          1   \n",
      "4          1               13.5                 5.9          0          0   \n",
      "\n",
      "   lips_thin  distance_nose_to_lip_long  gender  \n",
      "0          1                          1    Male  \n",
      "1          1                          0  Female  \n",
      "2          1                          1    Male  \n",
      "3          1                          1    Male  \n",
      "4          0                          0  Female  \n",
      "long_hair                    0\n",
      "forehead_width_cm            0\n",
      "forehead_height_cm           0\n",
      "nose_wide                    0\n",
      "nose_long                    0\n",
      "lips_thin                    0\n",
      "distance_nose_to_lip_long    0\n",
      "gender                       0\n",
      "dtype: int64\n",
      "   long_hair  forehead_width_cm  forehead_height_cm  nose_wide  nose_long  \\\n",
      "0          1               11.8                 6.1          1          0   \n",
      "1          0               14.0                 5.4          0          0   \n",
      "2          0               11.8                 6.3          1          1   \n",
      "3          0               14.4                 6.1          0          1   \n",
      "4          1               13.5                 5.9          0          0   \n",
      "\n",
      "   lips_thin  distance_nose_to_lip_long  gender  \n",
      "0          1                          1    Male  \n",
      "1          1                          0  Female  \n",
      "2          1                          1    Male  \n",
      "3          1                          1    Male  \n",
      "4          0                          0  Female  \n"
     ]
    }
   ],
   "source": [
    "import boto3\n",
    "import pandas as pd\n",
    "from io import StringIO\n",
    "\n",
    "# Define S3 bucket and file\n",
    "bucket_name = 'genderdatasetguvi'\n",
    "file_key = 'gender_classification_v7.csv'\n",
    "\n",
    "# Create S3 client\n",
    "s3 = boto3.client('s3')\n",
    "\n",
    "# Read file from S3\n",
    "obj = s3.get_object(Bucket=bucket_name, Key=file_key)\n",
    "df = pd.read_csv(StringIO(obj['Body'].read().decode('utf-8')))\n",
    "\n",
    "print(df.head())\n",
    "\n",
    "\n",
    "# Check for missing values\n",
    "print(df.isnull().sum())\n",
    "\n",
    "# Fill missing values using forward fill method\n",
    "df.fillna(method='ffill', inplace=True)\n",
    "\n",
    "# Remove duplicate rows\n",
    "df.drop_duplicates(inplace=True)\n",
    "\n",
    "\n",
    "print(df.head())\n",
    "\n"
   ]
  },
  {
   "cell_type": "code",
   "execution_count": null,
   "id": "71c50103-1379-4893-b402-6362ebe19626",
   "metadata": {},
   "outputs": [],
   "source": []
  }
 ],
 "metadata": {
  "kernelspec": {
   "display_name": "conda_tensorflow2_p310",
   "language": "python",
   "name": "conda_tensorflow2_p310"
  },
  "language_info": {
   "codemirror_mode": {
    "name": "ipython",
    "version": 3
   },
   "file_extension": ".py",
   "mimetype": "text/x-python",
   "name": "python",
   "nbconvert_exporter": "python",
   "pygments_lexer": "ipython3",
   "version": "3.10.16"
  }
 },
 "nbformat": 4,
 "nbformat_minor": 5
}
